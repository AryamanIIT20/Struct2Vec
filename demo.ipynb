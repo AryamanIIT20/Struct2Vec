{
 "cells": [
  {
   "cell_type": "code",
   "execution_count": 2,
   "id": "bfdb1191-f785-4fb4-ab61-7bf88014c7f4",
   "metadata": {},
   "outputs": [
    {
     "name": "stdout",
     "output_type": "stream",
     "text": [
      "[[-0.38810492 -0.66311705  0.5039352   1.0711579 ]\n",
      " [-0.5875333  -0.79685116  0.49775064  1.011186  ]\n",
      " [-0.5706731  -0.8612227   0.5982289   0.9283531 ]\n",
      " [-0.58045626 -0.66875917  0.32290846  1.0101004 ]\n",
      " [-0.45593742 -0.90225065  0.29526016  0.9389482 ]\n",
      " [-0.29608607 -0.72228616  0.6257229   1.0893973 ]\n",
      " [-0.23325773 -0.79363453  0.36509195  1.046343  ]\n",
      " [-0.61675215 -0.86471266  0.22181     0.94050336]\n",
      " [-0.17861588 -0.91543025  0.34450397  0.87815267]]\n"
     ]
    }
   ],
   "source": [
    "from struct2vec_utils import *\n",
    "G = nx.barbell_graph(3,3)\n",
    "struct2vec_emb = Struct2Vec(G, dimensions = 4, walk_length = 20, num_walks = 20, window = 5, Q = 0.1)\n",
    "print(struct2vec_emb.vectors)"
   ]
  }
 ],
 "metadata": {
  "kernelspec": {
   "display_name": "Python 3 (ipykernel)",
   "language": "python",
   "name": "python3"
  },
  "language_info": {
   "codemirror_mode": {
    "name": "ipython",
    "version": 3
   },
   "file_extension": ".py",
   "mimetype": "text/x-python",
   "name": "python",
   "nbconvert_exporter": "python",
   "pygments_lexer": "ipython3",
   "version": "3.11.5"
  }
 },
 "nbformat": 4,
 "nbformat_minor": 5
}
