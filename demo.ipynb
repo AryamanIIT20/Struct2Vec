{
 "cells": [
  {
   "cell_type": "code",
   "execution_count": null,
   "id": "bfdb1191-f785-4fb4-ab61-7bf88014c7f4",
   "metadata": {},
   "outputs": [],
   "source": [
    "from struct2vec_utils import *\n",
    "G = nx.barbell_graph(5,3)\n",
    "struct2vec_emb = Struct2Vec(G, dimensions = 8)\n",
    "print(struct2vec_emb.vectors)"
   ]
  }
 ],
 "metadata": {
  "kernelspec": {
   "display_name": "Python 3 (ipykernel)",
   "language": "python",
   "name": "python3"
  },
  "language_info": {
   "codemirror_mode": {
    "name": "ipython",
    "version": 3
   },
   "file_extension": ".py",
   "mimetype": "text/x-python",
   "name": "python",
   "nbconvert_exporter": "python",
   "pygments_lexer": "ipython3",
   "version": "3.11.5"
  }
 },
 "nbformat": 4,
 "nbformat_minor": 5
}
