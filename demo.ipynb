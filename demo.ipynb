{
 "cells": [
  {
   "cell_type": "code",
   "execution_count": 1,
   "id": "bfdb1191-f785-4fb4-ab61-7bf88014c7f4",
   "metadata": {},
   "outputs": [],
   "source": [
    "from struct2vec_utils import *",
   ]
  },
  {
   "cell_type": "code",
   "execution_count": 2,
   "id": "bad54445-d050-428f-9784-b7e82d5f2d82",
   "metadata": {},
   "outputs": [
    {
     "data": {
      "text/plain": [
       "(15, 16)"
      ]
     },
     "execution_count": 2,
     "metadata": {},
     "output_type": "execute_result"
    }
   ],
   "source": [
    "G = nx.barbell_graph(5,5)\n",
    "struct2vec_emb = Struct2Vec(G, dimensions = 16)\n",
    "struct2vec_emb.vectors.shape"
   ]
  },
  {
   "cell_type": "code",
   "execution_count": 3,
   "id": "b42b574e-fa2c-465a-ac0a-641a3d19dd26",
   "metadata": {},
   "outputs": [],
   "source": [
    "# struct2vec_emb.vectors"
   ]
  }
 ],
 "metadata": {
  "kernelspec": {
   "display_name": "Python 3 (ipykernel)",
   "language": "python",
   "name": "python3"
  },
  "language_info": {
   "codemirror_mode": {
    "name": "ipython",
    "version": 3
   },
   "file_extension": ".py",
   "mimetype": "text/x-python",
   "name": "python",
   "nbconvert_exporter": "python",
   "pygments_lexer": "ipython3",
   "version": "3.11.5"
  }
 },
 "nbformat": 4,
 "nbformat_minor": 5
}
